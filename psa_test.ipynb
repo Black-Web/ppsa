{
 "cells": [
  {
   "cell_type": "markdown",
   "metadata": {},
   "source": [
    "![net4](net4.png)\n",
    "* 当f1点发生单相接地短路时，求变压器T1三角侧的各相电流和电压。\n",
    "* 当f1点单相接地短路时，计算短路点f1的各序电流、电压分量，流过线路l1中的I2 、I0及 l1中的各相电流， \n",
    "* 试计算在f2点发生两相短路接地时流过线路l1及l2中的零序电流及l2线路首末端的零序电压。"
   ]
  },
  {
   "cell_type": "code",
   "execution_count": 1,
   "metadata": {
    "collapsed": true,
    "scrolled": false
   },
   "outputs": [],
   "source": [
    "import numpy as np\n",
    "import scipy as sp\n",
    "import ppsa as psa"
   ]
  },
  {
   "cell_type": "code",
   "execution_count": null,
   "metadata": {
    "collapsed": true
   },
   "outputs": [],
   "source": [
    "def short_circuit1(self,f,loc,Ii):\n",
    "    Z = self.impedance_matrix()\n",
    "    E=np.zeros((self.node_num,len(loc)),dtype=np.complex128)\n",
    "    loc = np.array(loc) - 1\n",
    "    E[loc,range(len(loc))]=Ii\n",
    "    Ue = Z.dot(E)\n",
    "    I = Ue[f-1]/Z[f-1,f-1]\n",
    "    return I"
   ]
  },
  {
   "cell_type": "code",
   "execution_count": null,
   "metadata": {
    "collapsed": true
   },
   "outputs": [],
   "source": [
    "def transf3(Vs1_2,Vs2_3,Vs3_1):\n",
    "    return np.dot([[0.5,-0.5,0.5],\n",
    "                   [0.5,0.5,-0.5],\n",
    "                   [-0.5,0.5,0.5]],[Vs1_2,Vs2_3,Vs3_1])"
   ]
  },
  {
   "cell_type": "code",
   "execution_count": 12,
   "metadata": {
    "collapsed": true
   },
   "outputs": [],
   "source": [
    "def part2total(a1,a2,a0):\n",
    "    a = np.e**(np.pi*2/3)\n",
    "    abc = np.dot([[1 ,1, 1],\n",
    "                 [a**2,a,1],\n",
    "                 [a,a**2,1]],[a1,a2,a0])\n",
    "    return abc"
   ]
  },
  {
   "cell_type": "code",
   "execution_count": null,
   "metadata": {
    "collapsed": true
   },
   "outputs": [],
   "source": [
    "def current_distribution(admat,U):\n",
    "    U= np.array(U)\n",
    "    U= U.reshape((-1,1))-U.reshape((1,-1))\n",
    "    I = -U * admat\n",
    "    return I"
   ]
  },
  {
   "cell_type": "code",
   "execution_count": 2,
   "metadata": {
    "collapsed": true
   },
   "outputs": [],
   "source": [
    "Sb = 31.5\n",
    "gd4_1 = psa.power_grid(5,Sb)\n",
    "gd4_2 = psa.power_grid(5,Sb)\n",
    "gd4_0 = psa.power_grid(3,Sb)\n",
    "\n",
    "Xt2_1,Xt2_2,Xt2_3 = 0.1075,0.0625,0\n",
    "\n",
    "# 正序网络\n",
    "gd4_1.add_load((1,0),800,0.6j,ref_vol=1j)\n",
    "gd4_1.add_line((1,3),115,0.4,100)\n",
    "gd4_1.add_line((1,2),115,0.4,30)\n",
    "gd4_1.add_line((2,3),115,0.4,60)\n",
    "gd4_1.add_transformer((3,4),31.5,0.105)\n",
    "gd4_1.add_transformer((3,5),31.5,Xt2_1)\n",
    "gd4_1.add_generator((4,0),25/0.8,0.1138j,ref_vol=1j)\n",
    "gd4_1.add_generator((5,0),25/0.8,0.1138j,ref_vol=1j)\n",
    "\n",
    "# 负序网络\n",
    "gd4_2.add_load((1,0),800,0.6j)\n",
    "gd4_2.add_line((1,3),115,0.4,100)\n",
    "gd4_2.add_line((1,2),115,0.4,30)\n",
    "gd4_2.add_line((2,3),115,0.4,60)\n",
    "gd4_2.add_transformer((3,4),31.5,0.105)\n",
    "gd4_2.add_transformer((3,5),31.5,Xt2_1)\n",
    "gd4_2.add_generator((4,0),25/0.8,0.1138j)\n",
    "gd4_2.add_generator((5,0),25/0.8,0.1138j)\n",
    "\n",
    "# 零序网络\n",
    "gd4_0.add_load((1,0),800,0.6j)\n",
    "gd4_0.add_line((1,3),115,0.4,100)\n",
    "gd4_0.add_line((1,2),115,0.4*3,30)\n",
    "gd4_0.add_line((2,3),115,0.4*3,60)\n",
    "gd4_0.add_transformer((2,0),20,0.105)\n",
    "gd4_0.add_transformer((3,0),31.5,Xt2_1)"
   ]
  },
  {
   "cell_type": "code",
   "execution_count": 8,
   "metadata": {
    "collapsed": true
   },
   "outputs": [],
   "source": [
    "Ub =115\n",
    "Ib = 31.5/(np.sqrt(3)*Ub)"
   ]
  },
  {
   "cell_type": "code",
   "execution_count": 9,
   "metadata": {
    "scrolled": true
   },
   "outputs": [
    {
     "name": "stdout",
     "output_type": "stream",
     "text": [
      "f1短路后a相正、负、零序电流： (0.377165622884+0j) \n",
      " 正、负、零序电压： 78.099965482j \t -36.900034518j \t -41.1999309641j\n"
     ]
    }
   ],
   "source": [
    "f = 3    #短路点\n",
    "Z1 = gd4_1.Z;Z2 = gd4_2.Z;Z0 = gd4_0.Z    #各序阻抗矩阵\n",
    "U = gd4_1.nodes_voltage()\n",
    "Ifa1 = U[f-1]/(Z1[f-1,f-1]+Z2[f-1,f-1]+Z0[f-1,f-1])    #a相正序电流\n",
    "Ifa = 3*Ifa1    #a相电流总合\n",
    "Ufa1= U[f-1] - Z1[f-1,f-1]*Ifa1    #短路后3结点正序电压\n",
    "Ufa2= -Z2[f-1,f-1]*Ifa1\n",
    "Ufa0= -Z0[f-1,f-1]*Ifa1\n",
    "\n",
    "print('f1短路后a相正、负、零序电流：',Ifa1*Ib,'\\n','正、负、零序电压：',Ufa1*Ub,'\\t',Ufa2*Ub,'\\t',Ufa0*Ub)"
   ]
  },
  {
   "cell_type": "code",
   "execution_count": 13,
   "metadata": {
    "collapsed": true
   },
   "outputs": [],
   "source": [
    "Xt1 = psa.impedance_of_transformer(0.105,Sb,31.5)\n",
    "Xg1 = psa.impedance_of_generator(0.1138,Sb,25/0.8)\n",
    "Xl1_2=psa.impedance_of_line(50,0.4,115,Sb)\n",
    "Xl1_1=Xl1_2\n",
    "Xl1_0=psa.impedance_of_line(50,0.4*3,115,Sb)"
   ]
  },
  {
   "cell_type": "code",
   "execution_count": 10,
   "metadata": {
    "scrolled": true
   },
   "outputs": [
    {
     "name": "stdout",
     "output_type": "stream",
     "text": [
      "变压器T1三角侧的短路电流 (0.145502666672+0j)\n"
     ]
    }
   ],
   "source": [
    "It1_1 = (1j - Ufa1)/(Xt1*1j+Xg1*1j)\n",
    "It1_2 = -Ufa2/(Xt1*1j+Xg1*1j)\n",
    "It1 = It1_1+It1_2\n",
    "print('变压器T1三角侧的短路电流',It1*Ib)"
   ]
  },
  {
   "cell_type": "code",
   "execution_count": 23,
   "metadata": {},
   "outputs": [
    {
     "name": "stdout",
     "output_type": "stream",
     "text": [
      "流过L1的负序电流: -0.335541856577j 零序电流: -0.124880653972j\n",
      "流过L1的各相电流: [ 0. -0.79596437j  0.-24.97628246j  0.-24.97628246j]\n"
     ]
    }
   ],
   "source": [
    "Il1_2 = (Ufa2-0)/Xl1_2    #流过L1的负序电流\n",
    "Il1_0 = (Ufa0-0)/Xl1_0\n",
    "Il1_1 = (Ufa1-U[0])/Xl1_1\n",
    "Il_abc=part2total(Il1_1,Il1_2,Il1_0)\n",
    "print('流过L1的负序电流:',Il1_2*Ib,'零序电流:',Il1_0*Ib)\n",
    "print('流过L1的各相电流:',Il_abc*Ib)"
   ]
  }
 ],
 "metadata": {
  "kernelspec": {
   "display_name": "Python 3",
   "language": "python",
   "name": "python3"
  },
  "language_info": {
   "codemirror_mode": {
    "name": "ipython",
    "version": 3
   },
   "file_extension": ".py",
   "mimetype": "text/x-python",
   "name": "python",
   "nbconvert_exporter": "python",
   "pygments_lexer": "ipython3",
   "version": "3.6.3"
  }
 },
 "nbformat": 4,
 "nbformat_minor": 2
}
