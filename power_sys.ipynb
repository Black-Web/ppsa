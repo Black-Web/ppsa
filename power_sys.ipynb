{
 "cells": [
  {
   "cell_type": "markdown",
   "metadata": {},
   "source": [
    "# ppsa -- python power system analysis 测试和说明\n",
    "---\n",
    "**他曾经是个王者，后来学了电分**\n",
    "\n",
    "**然后又做了电分实验**\n",
    "\n",
    "*所以本文档的目标是让不懂python语言的读者也能用20行以内的代码分析一个电力网络*\n",
    "\n",
    "首先，为了使用ppsa，需要安装和配置好python环境，有这么几步：\n",
    "1. 去[python官网](https://www.python.org/downloads/release/python-363/)下载python3的安装包并安装\n",
    "2. 命令行运行`pip install numpy`和`pip install scipy`安装两个科学计算包\n",
    "\n",
    "*或者也可以直接安装[Anaconda](https://www.anaconda.com/)*\n",
    "\n",
    "这么说对新手来说怕是要有一番折腾\n",
    "\n",
    "**所以这里贴心地给出了一个压缩包，下载后先阅读里面的说明**\n",
    "\n",
    "[https://pan.baidu.com/s/1dEKdC33](https://pan.baidu.com/s/1dEKdC33)"
   ]
  },
  {
   "cell_type": "markdown",
   "metadata": {
    "slideshow": {
     "slide_type": "slide"
    }
   },
   "source": [
    "## 实验1"
   ]
  },
  {
   "cell_type": "markdown",
   "metadata": {},
   "source": [
    "导纳矩阵4步走：\n",
    "1. 在任意位置新建一个文本文档，文件名改为**任意文件名.py**，注意一定要**.py**结尾。\n",
    "2. 把ppsa.py复制到**任意文件名.py**同目录下\n",
    "3. 右键编辑，打开新建的文本文档，把下面的代码复制到文件里\n",
    "4. 双击运行"
   ]
  },
  {
   "cell_type": "code",
   "execution_count": null,
   "metadata": {
    "collapsed": true
   },
   "outputs": [],
   "source": [
    "import numpy as np\n",
    "import scipy as sp\n",
    "import ppsa as psa\n",
    "\n",
    "grid = psa.power_grid(node_num= 5, Sb= 120)\n",
    "grid.add_generator(loc=(1,0),Sn=120 ,Xd_2= 0.23)\n",
    "grid.add_generator(loc=(2,0),Sn=60 ,Xd_2= 0.14)\n",
    "grid.add_transformer(loc=(1,3),Sn= 120, Vs= 0.105)\n",
    "grid.add_transformer(loc=(2,4),Sn= 60, Vs= 0.105)\n",
    "grid.add_line(loc=(3,4),voltage=115, x= 0.4, b= 2.8, length= 120)\n",
    "grid.add_line(loc=(3,5),voltage=115, x= 0.4, b= 2.8, length= 80)\n",
    "grid.add_line(loc=(4,5),voltage=115, x= 0.4, b= 2.8, length= 70)\n",
    "print('初始导纳矩阵：\\n',grid.admat)\n",
    "print('5结点短路的矩阵：\\n',grid.admat[:-1,:-1])\n",
    "grid.add_line(loc=(4,5),voltage=115, x= 0.4, b= 2.8, length= -70)\n",
    "grid.add_line(loc=(0,5),voltage=115, x= 0.4, b= 2.8, length= 35)\n",
    "grid.add_line(loc=(4,0),voltage=115, x= 0.4, b= 2.8, length= 35)\n",
    "print('L-3中点短路的矩阵：\\n',grid.admat)"
   ]
  },
  {
   "cell_type": "markdown",
   "metadata": {},
   "source": [
    "下面分别介绍下每行代码的作用"
   ]
  },
  {
   "cell_type": "markdown",
   "metadata": {},
   "source": [
    "这3行代码不用理解，只是为程序运行做准备"
   ]
  },
  {
   "cell_type": "code",
   "execution_count": 1,
   "metadata": {
    "collapsed": true
   },
   "outputs": [],
   "source": [
    "import numpy as np\n",
    "import scipy as sp\n",
    "import ppsa as psa"
   ]
  },
  {
   "cell_type": "markdown",
   "metadata": {},
   "source": [
    "下面这行表示创建一个名为*grid*的网络，grid可以置换成其他，只是一个名字，节点数*node_num = 5*，即5结点，网络统一标幺容量*Sb = 120 MVA*"
   ]
  },
  {
   "cell_type": "code",
   "execution_count": 2,
   "metadata": {
    "collapsed": true
   },
   "outputs": [],
   "source": [
    "grid = psa.power_grid(node_num= 5, Sb= 120)"
   ]
  },
  {
   "cell_type": "markdown",
   "metadata": {},
   "source": [
    "下面代码表示向grid里面添加发电机(*generator*)，*loc = (1,0)*指1结点和地结点之间，*Sn = 120 MVA*是机组容量, *Xd_2 = 0.23*是次暂态电抗\n",
    "* 注意*loc = (1,0)* 不要写成*loc = (0,1)* ，因为发电机是有正方向的，这里约定loc参数的第一个元素为电源正极"
   ]
  },
  {
   "cell_type": "code",
   "execution_count": 3,
   "metadata": {
    "collapsed": true
   },
   "outputs": [],
   "source": [
    "grid.add_generator(loc=(1,0),Sn=120 ,Xd_2= 0.23)\n",
    "grid.add_generator(loc=(2,0),Sn=60 ,Xd_2= 0.14)"
   ]
  },
  {
   "cell_type": "markdown",
   "metadata": {},
   "source": [
    "下面代码表示向grid里面添加变压器(*transformer*)，*loc = (1,3)*指1结点和3结点之间，*Sn = 120 MVA*是变压器额定容量, *Vs = 0.105*即短路电压百分比"
   ]
  },
  {
   "cell_type": "code",
   "execution_count": 4,
   "metadata": {
    "collapsed": true
   },
   "outputs": [],
   "source": [
    "grid.add_transformer(loc=(1,3),Sn= 120, Vs= 0.105)\n",
    "grid.add_transformer(loc=(2,4),Sn= 60, Vs= 0.105)"
   ]
  },
  {
   "cell_type": "markdown",
   "metadata": {},
   "source": [
    "下面代码表示向grid里面添加线路(*line*)，*loc = (3,4)*指3结点和4结点之间，*voltage = 115*是基准电压等级, *x= 0.4, b= 2.8, length= 120*分别是线路的参数"
   ]
  },
  {
   "cell_type": "code",
   "execution_count": 5,
   "metadata": {
    "collapsed": true
   },
   "outputs": [],
   "source": [
    "grid.add_line(loc=(3,4),voltage=115, x= 0.4, b= 2.8, length= 120)\n",
    "grid.add_line(loc=(3,5),voltage=115, x= 0.4, b= 2.8, length= 80)\n",
    "grid.add_line(loc=(4,5),voltage=115, x= 0.4, b= 2.8, length= 70)"
   ]
  },
  {
   "cell_type": "markdown",
   "metadata": {},
   "source": [
    "这样整个网络就形成了，用下面这行代码输出grid的导纳矩阵，其中 **grid.admat**  是取出grid的admat属性\n",
    "* admat -- admittance matrix   即导纳矩阵"
   ]
  },
  {
   "cell_type": "code",
   "execution_count": 6,
   "metadata": {},
   "outputs": [
    {
     "name": "stdout",
     "output_type": "stream",
     "text": [
      "初始导纳矩阵：\n",
      " [[ 0.-13.87163561j  0. +0.j          0. +9.52380952j  0. +0.j          0. +0.j        ]\n",
      " [ 0. +0.j          0. -8.33333333j  0. +0.j          0. +4.76190476j\n",
      "   0. +0.j        ]\n",
      " [ 0. +9.52380952j  0. +0.j          0.-15.23296855j  0. +2.29600694j\n",
      "   0. +3.44401042j]\n",
      " [ 0. +0.j          0. +4.76190476j  0. +2.29600694j  0.-10.96460819j\n",
      "   0. +3.9360119j ]\n",
      " [ 0. +0.j          0. +0.j          0. +3.44401042j  0. +3.9360119j\n",
      "   0. -7.35687857j]]\n"
     ]
    }
   ],
   "source": [
    "print('初始导纳矩阵：\\n',grid.admat)"
   ]
  },
  {
   "cell_type": "markdown",
   "metadata": {},
   "source": [
    "5结点接地，直接把最后一行一列抹掉就好了："
   ]
  },
  {
   "cell_type": "code",
   "execution_count": 7,
   "metadata": {},
   "outputs": [
    {
     "name": "stdout",
     "output_type": "stream",
     "text": [
      "5结点短路的矩阵：\n",
      " [[ 0.-13.87163561j  0. +0.j          0. +9.52380952j  0. +0.j        ]\n",
      " [ 0. +0.j          0. -8.33333333j  0. +0.j          0. +4.76190476j]\n",
      " [ 0. +9.52380952j  0. +0.j          0.-15.23296855j  0. +2.29600694j]\n",
      " [ 0. +0.j          0. +4.76190476j  0. +2.29600694j  0.-10.96460819j]]\n"
     ]
    }
   ],
   "source": [
    "print('5结点短路的矩阵：\\n',grid.admat[:-1,:-1])\n",
    "#这里实际上并没有改变网络结构，只是把除5结点之外的有关元素输出了"
   ]
  },
  {
   "cell_type": "code",
   "execution_count": 8,
   "metadata": {
    "collapsed": true
   },
   "outputs": [],
   "source": [
    "grid.add_line(loc=(4,5),voltage=115, x= 0.4, b= 2.8, length= -70)"
   ]
  },
  {
   "cell_type": "markdown",
   "metadata": {},
   "source": [
    "加入一根length为**-70**的线路，相当于切除它\n",
    "\n",
    "然后重新在相关结点加入半段线路："
   ]
  },
  {
   "cell_type": "code",
   "execution_count": 9,
   "metadata": {
    "scrolled": false
   },
   "outputs": [
    {
     "name": "stdout",
     "output_type": "stream",
     "text": [
      "L-3中点短路的矩阵：\n",
      " [[ 0.-13.87163561j  0. +0.j          0. +9.52380952j  0. +0.j          0. +0.j        ]\n",
      " [ 0. +0.j          0. -8.33333333j  0. +0.j          0. +4.76190476j\n",
      "   0. +0.j        ]\n",
      " [ 0. +9.52380952j  0. +0.j          0.-15.23296855j  0. +2.29600694j\n",
      "   0. +3.44401042j]\n",
      " [ 0. +0.j          0. +4.76190476j  0. +2.29600694j  0.-14.90602031j\n",
      "   0. +0.j        ]\n",
      " [ 0. +0.j          0. +0.j          0. +3.44401042j  0. +0.j\n",
      "   0.-11.29829068j]]\n"
     ]
    }
   ],
   "source": [
    "grid.add_line(loc=(0,5),voltage=115, x= 0.4, b= 2.8, length= 35)\n",
    "grid.add_line(loc=(4,0),voltage=115, x= 0.4, b= 2.8, length= 35)\n",
    "print('L-3中点短路的矩阵：\\n',grid.admat)"
   ]
  },
  {
   "cell_type": "markdown",
   "metadata": {},
   "source": [
    "## 实验2\n",
    "___\n",
    "下面部分是实验2的部分程序，说明得不是很清楚，有些内容需要了解python语法和numpy才能读懂"
   ]
  },
  {
   "cell_type": "markdown",
   "metadata": {},
   "source": [
    "![net](simple_net.png)"
   ]
  },
  {
   "cell_type": "code",
   "execution_count": 10,
   "metadata": {
    "collapsed": true
   },
   "outputs": [],
   "source": [
    "grid2 = psa.power_grid(node_num= 4, Sb= 60)\n",
    "\n",
    "grid2.add_generator((1,0), Sn=60, Xd_2=0.15, ref_vol = 1.05)\n",
    "grid2.add_generator((4,0), Sn=150, Xd_2=0.2, ref_vol = 1.05)\n",
    "grid2.add_transformer((1,2), Sn=60, Vs=0.12)\n",
    "grid2.add_transformer((3,4), Sn=90, Vs=0.12)\n",
    "grid2.add_line((2,3), voltage=115, x=0.4, length=80)\n",
    "grid2.add_line((2,3), voltage=115, x=0.4, length=80)\n",
    "grid2.add_load(loc=(3,0), Sn= 120, Xld_2= 0.35, ref_vol = 0.8)"
   ]
  },
  {
   "cell_type": "code",
   "execution_count": 11,
   "metadata": {
    "scrolled": true
   },
   "outputs": [
    {
     "name": "stdout",
     "output_type": "stream",
     "text": [
      "短路前各结点电压：\n",
      " [ 0.+0.87348934j  0.+0.73228081j  0.+0.64686166j  0.+0.84843083j]\n",
      "短路后各结点电压：\n",
      " [ 0.+0.59026651j  0.+0.22247972j  0.+0.j          0.+0.525j     ]\n"
     ]
    }
   ],
   "source": [
    "#这里是短路后结点电压计算的实现\n",
    "f = 3\n",
    "U = grid2.nodes_voltage()\n",
    "Uf = U.copy()\n",
    "print('短路前各结点电压：\\n',U)\n",
    "Z = grid2.impedance_matrix()[f-1]\n",
    "Uf = U - U[f-1]*Z/Z[f-1]\n",
    "print('短路后各结点电压：\\n',Uf)"
   ]
  },
  {
   "cell_type": "code",
   "execution_count": null,
   "metadata": {
    "scrolled": true
   },
   "outputs": [],
   "source": [
    "#上面的代码已经封装到ppsa内\n",
    "print('短路前各结点电压：\\n',grid2.nodes_voltage())\n",
    "print('3结点短路后各结点电压：\\n',grid2.short_circuit(3))"
   ]
  },
  {
   "cell_type": "markdown",
   "metadata": {},
   "source": [
    "根据等效电路和上面的短路结点电压计算短路点的电流(标幺值)："
   ]
  },
  {
   "cell_type": "code",
   "execution_count": 15,
   "metadata": {
    "scrolled": true
   },
   "outputs": [
    {
     "name": "stdout",
     "output_type": "stream",
     "text": [
      "3结点短路的次暂态电流:\n",
      " 14.1988184903\n"
     ]
    }
   ],
   "source": [
    "I = Uf[1].imag/X_l + Uf[3].imag/X_t2 + 0.8/X_ld\n",
    "print('3结点短路的次暂态电流:\\n',I)"
   ]
  },
  {
   "cell_type": "markdown",
   "metadata": {},
   "source": [
    "下面是一些还未整合的utilities"
   ]
  },
  {
   "cell_type": "code",
   "execution_count": 12,
   "metadata": {
    "collapsed": true
   },
   "outputs": [],
   "source": [
    "def impedance_of_line(length, x, voltage, Sb):\n",
    "    return length * x/(voltage**2 / Sb)\n",
    "def impedance_of_transformer(Vs, Sb, Sn):\n",
    "    return Vs * Sb / Sn\n",
    "def impedance_of_generator(Xd, Sb, Sn):\n",
    "    return Xd * Sb/Sn\n",
    "impedance_of_load = impedance_of_generator"
   ]
  },
  {
   "cell_type": "code",
   "execution_count": 13,
   "metadata": {
    "collapsed": true
   },
   "outputs": [],
   "source": [
    "X_g1 =impedance_of_generator(Sn=60, Xd=0.15, Sb =grid2.Sb)\n",
    "X_g2 =impedance_of_generator(Sn=150, Xd=0.2, Sb =grid2.Sb)\n",
    "X_l = 0.5 * impedance_of_line(Sb=grid2.Sb,voltage=115, x=0.4, length=80)\n",
    "X_ld = impedance_of_load(Sn= 120, Xd= 0.35,Sb=grid2.Sb)\n",
    "X_t1 = impedance_of_transformer(Sb=grid2.Sb,Sn=60, Vs=0.12)\n",
    "X_t2 = impedance_of_transformer(Sb=grid2.Sb,Sn=90, Vs=0.12)"
   ]
  },
  {
   "cell_type": "code",
   "execution_count": 14,
   "metadata": {
    "scrolled": false
   },
   "outputs": [
    {
     "name": "stdout",
     "output_type": "stream",
     "text": [
      "0.15\n",
      "0.08\n",
      "0.0725897920604915\n",
      "0.175\n",
      "0.11999999999999998\n",
      "0.07999999999999999\n"
     ]
    }
   ],
   "source": [
    "for each in (X_g1,X_g2,X_l,X_ld,X_t1,X_t2):\n",
    "    print(each)"
   ]
  },
  {
   "cell_type": "markdown",
   "metadata": {},
   "source": [
    "最后，再画个电路结点的拓扑关系图，(这显然不是重点)："
   ]
  },
  {
   "cell_type": "code",
   "execution_count": 16,
   "metadata": {
    "scrolled": false
   },
   "outputs": [
    {
     "data": {
      "image/png": "[encoded data removed]",
      "text/plain": [
       "<matplotlib.figure.Figure at 0x59c7588>"
      ]
     },
     "metadata": {},
     "output_type": "display_data"
    }
   ],
   "source": [
    "import networkx as nx\n",
    "import matplotlib.pyplot as plt\n",
    "def tological(arr):\n",
    "    res = np.zeros(arr.shape)\n",
    "    for i in range(arr.shape[0]):\n",
    "        for j in range(arr.shape[0]):\n",
    "            if arr[i,j]:\n",
    "                res[i,j]=1\n",
    "    return res\n",
    "\n",
    "Gr = nx.from_numpy_array(tological(grid2.admat_with_earth))\n",
    "nx.draw_networkx(Gr,node_color='b' ,alpha=0.7,nodelist=(range(1,5)))\n",
    "plt.show()"
   ]
  }
 ],
 "metadata": {
  "kernelspec": {
   "display_name": "Python 3",
   "language": "python",
   "name": "python3"
  },
  "language_info": {
   "codemirror_mode": {
    "name": "ipython",
    "version": 3
   },
   "file_extension": ".py",
   "mimetype": "text/x-python",
   "name": "python",
   "nbconvert_exporter": "python",
   "pygments_lexer": "ipython3",
   "version": "3.6.3"
  }
 },
 "nbformat": 4,
 "nbformat_minor": 2
}
