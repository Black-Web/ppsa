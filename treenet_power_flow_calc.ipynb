{
 "cells": [
  {
   "cell_type": "markdown",
   "metadata": {},
   "source": [
    "# 用Python进行潮流计算和功率分配优化"
   ]
  },
  {
   "cell_type": "markdown",
   "metadata": {},
   "source": [
    "## 前推回代法潮流计算"
   ]
  },
  {
   "cell_type": "markdown",
   "metadata": {},
   "source": [
    "所谓前推回代法，只适用于树形网络，一般是配电网。反映到数据结构里就是树的遍历，从叶到根，再从根到叶。\n",
    "\n",
    "下面的代码**Looks like sh\\*t**，但它确实能用并且具有通用性。\n",
    "\n",
    "算例使用何书`例题11-1`，前推使用循环，回代用到了递归。"
   ]
  },
  {
   "cell_type": "code",
   "execution_count": 1,
   "metadata": {},
   "outputs": [
    {
     "name": "stdout",
     "output_type": "stream",
     "text": [
      "每个节点电压：\n",
      " [10.5, 10.15558955732597, 10.075950820975375, 10.042292782778716, 9.962567971028836, 9.90552582743957, 9.915398742359878, 10.093667504909464]\n",
      "每条支路功率：\n",
      " [(3.536373162773606+2.6312017514466137j), (0.807400874555281+0.5856519813407112j), (0.40141837720288814+0.2808273867016848j), (1.5305184990611447+1.1291733546484828j), (0.4025479150146329+0.30140135325804807j), (0.5027106712184759+0.40145959219456395j), (0.5032905674433167+0.3518280930240648j)]\n"
     ]
    }
   ],
   "source": [
    "class node():\n",
    "    def __init__(self, index, voltage, load, receive_from, send_through):\n",
    "        self.index = index\n",
    "        self.receive_from = receive_from\n",
    "        self.send_through = send_through\n",
    "        self.send_through_for_iter = self.send_through.copy()\n",
    "        self.load = load\n",
    "        self.voltage = voltage\n",
    "        self.received_power = load\n",
    "    def update_power_flow(self):\n",
    "        self.received_power = self.load\\\n",
    "            +sum([each.transfer_power for each in self.send_through])\n",
    "    def reset(self):\n",
    "        self.send_through_for_iter = self.send_through.copy()\n",
    "    def update_voltage(self,net , current_edge):\n",
    "        self.voltage = abs(net[current_edge.source_node_index-1].voltage\\\n",
    "                       - current_edge.voltage_loss)\n",
    "\n",
    "class edge():\n",
    "    def __init__(self, impedance, connect_to):\n",
    "        self.impedance = impedance\n",
    "        self.source_node_index = connect_to[0]\n",
    "        self.user_node_index = connect_to[1]\n",
    "        self.power_loss = 0\n",
    "        self.voltage_loss = 0\n",
    "        self.transfer_power = 0\n",
    "    def update_power_flow(self, net):\n",
    "        send_power = net[self.user_node_index-1].received_power\n",
    "        voltage = net[self.user_node_index-1].voltage\n",
    "        self.power_loss = self.impedance * abs(send_power/voltage)**2\n",
    "        self.transfer_power = self.power_loss + send_power\n",
    "    def update_voltage(self, voltage):\n",
    "        self.voltage_loss = self.transfer_power\\\n",
    "             * self.impedance.conjugate() / voltage\n",
    "\n",
    "edge1 = edge(0.54+0.65j,[1,2])\n",
    "edge2 = edge(0.62+0.5j,[2,3])\n",
    "edge3 = edge(0.6+0.35j,[3,4])\n",
    "edge4 = edge(0.72+0.75j,[2,5])\n",
    "edge5 = edge(1.0+0.55j,[5,6])\n",
    "edge6 = edge(0.65+0.35j,[5,7])\n",
    "edge7 = edge(0.9+0.5j,[2,8])\n",
    "edges = [edge1,edge2,edge3,edge4,edge5,edge6,edge7]\n",
    "\n",
    "node1 = node(1,10.5,0, None , {edge1})\n",
    "node2 = node(2,10.5,(0.6+0.45j), edge1, {edge2,edge4,edge7})\n",
    "node3 = node(3,10.5,(0.4+0.3j), edge2, {edge3})\n",
    "node4 = node(4,10.5,(0.4+0.28j), edge3, set())\n",
    "node5 = node(5,10,(0.6+0.4j), edge4, {edge5,edge6})\n",
    "node6 = node(6,10,(0.4+0.3j), edge5, set())\n",
    "node7 = node(7,10,(0.5+0.4j), edge6, set())\n",
    "node8 = node(8,10,(0.5+0.35j), edge7, set())\n",
    "nodes = [node1,node2,node3,node4,node5,node6,node7,node8]\n",
    "leaf_node = [each for each in nodes if not each.send_through]\n",
    "\n",
    "def update_voltage(source_node,current_edge,current_node):\n",
    "    current_edge.update_voltage(source_node.voltage)\n",
    "    current_node.update_voltage(nodes, current_edge)\n",
    "    for current_edge in current_node.send_through_for_iter:\n",
    "        source_node = current_node\n",
    "        current_node = nodes[current_edge.user_node_index-1]\n",
    "        update_voltage(source_node,current_edge,current_node)\n",
    "\n",
    "iter_count = 0\n",
    "while True:\n",
    "    V = [each.voltage for each in nodes]\n",
    "    S = [each.transfer_power for each in edges]\n",
    "    nodeiter = leaf_node.copy()\n",
    "    current_node = nodeiter.pop()\n",
    "    while True:\n",
    "        current_edge = current_node.receive_from\n",
    "        source_node = nodes[current_edge.source_node_index-1]\n",
    "        current_edge.update_power_flow(nodes)\n",
    "        source_node.update_power_flow()\n",
    "        source_node.send_through_for_iter.remove(current_edge)\n",
    "        if source_node.send_through_for_iter:\n",
    "            try:current_node = nodeiter.pop()\n",
    "            except:print('unexpected iteration error.')\n",
    "        elif source_node.receive_from:\n",
    "            current_node = source_node\n",
    "        else:\n",
    "            for each in nodes:\n",
    "                each.reset()\n",
    "            break\n",
    "    update_voltage(source_node,current_edge,current_node)\n",
    "    if max([abs(vn - vn_1) for vn,vn_1 in\\\n",
    "            zip([each.voltage for each in nodes], V)])>1e-6:\n",
    "        iter_count += 1\n",
    "        if iter_count > 50:print('该系统不收敛');break\n",
    "    else:\n",
    "        V = [each.voltage for each in nodes]\n",
    "        S = [each.transfer_power for each in edges]\n",
    "        break\n",
    "print('每个节点电压：\\n',V)\n",
    "print('每条支路功率：\\n',S)"
   ]
  },
  {
   "cell_type": "markdown",
   "metadata": {},
   "source": [
    "## 水火电厂功率的经济分配"
   ]
  },
  {
   "cell_type": "markdown",
   "metadata": {},
   "source": [
    "算例使用何书`例题14-4`，这个程序不具有通用性。"
   ]
  },
  {
   "cell_type": "code",
   "execution_count": 2,
   "metadata": {},
   "outputs": [
    {
     "data": {
      "image/png": "[encoded data removed]",
      "text/latex": [
       "$$\\left ( P_{T}, \\quad P_{H}, \\quad \\gamma, \\quad P_{LD}\\right )$$"
      ],
      "text/plain": [
       "(P_T, P_H, γ, P_LD)"
      ]
     },
     "execution_count": 2,
     "metadata": {},
     "output_type": "execute_result"
    }
   ],
   "source": [
    "import sympy as s\n",
    "s.init_printing(use_unicode=True, wrap_line=True,print_builtin=False)\n",
    "s.var('P_T,P_H,gamma,P_LD')"
   ]
  },
  {
   "cell_type": "code",
   "execution_count": 3,
   "metadata": {},
   "outputs": [],
   "source": [
    "F = 3 + 0.4*P_T + 0.00035*P_T**2\n",
    "W = 2 + 0.8*P_H + 0.0015*P_H**2\n",
    "dFdp = s.diff(F,P_T)\n",
    "dWdp = s.diff(W,P_H)"
   ]
  },
  {
   "cell_type": "code",
   "execution_count": 4,
   "metadata": {},
   "outputs": [
    {
     "data": {
      "image/png": "[encoded data removed]",
      "text/latex": [
       "$$\\left \\{ P_{H} : \\frac{7.0 P_{LD} - 8000.0 \\gamma + 4000.0}{30.0 \\gamma + 7.0}, \\quad P_{T} : \\frac{10.0 \\left(3.0 P_{LD} \\gamma + 800.0 \\gamma - 400.0\\right)}{30.0 \\gamma + 7.0}\\right \\}$$"
      ],
      "text/plain": [
       "⎧     7.0⋅P_LD - 8000.0⋅γ + 4000.0       10.0⋅(3.0⋅P_LD⋅γ + 800.0⋅γ - 400.0)⎫\n",
       "⎨P_H: ────────────────────────────, P_T: ───────────────────────────────────⎬\n",
       "⎩             30.0⋅γ + 7.0                           30.0⋅γ + 7.0           ⎭"
      ]
     },
     "execution_count": 4,
     "metadata": {},
     "output_type": "execute_result"
    }
   ],
   "source": [
    "load_dist = s.solve([dFdp - gamma*dWdp, P_T + P_H - P_LD],[P_T, P_H])\n",
    "load_dist"
   ]
  },
  {
   "cell_type": "code",
   "execution_count": 5,
   "metadata": {},
   "outputs": [],
   "source": [
    "def W_sum(g):\n",
    "    ph = [load_dist[P_H].subs({P_LD:pld,gamma:g}) \\\n",
    "          for pld in [350,700,500]]\n",
    "    return sum(W.subs({P_H:p}) * 3600 * interval \\\n",
    "               for p,interval in zip(ph,[8,10,6]))"
   ]
  },
  {
   "cell_type": "code",
   "execution_count": 6,
   "metadata": {},
   "outputs": [],
   "source": [
    "_gamma = [0.46, 0.54]\n",
    "while True:\n",
    "    res = W_sum(sum(_gamma) / 2)\n",
    "    _gamma[bool(res < 1.5e7)] = sum(_gamma) / 2\n",
    "    if abs(res - 1.5e7) < 100:break"
   ]
  },
  {
   "cell_type": "code",
   "execution_count": 7,
   "metadata": {},
   "outputs": [
    {
     "data": {
      "text/html": [
       "<div>\n",
       "<style scoped>\n",
       "    .dataframe tbody tr th:only-of-type {\n",
       "        vertical-align: middle;\n",
       "    }\n",
       "\n",
       "    .dataframe tbody tr th {\n",
       "        vertical-align: top;\n",
       "    }\n",
       "\n",
       "    .dataframe thead th {\n",
       "        text-align: right;\n",
       "    }\n",
       "</style>\n",
       "<table border=\"1\" class=\"dataframe\">\n",
       "  <thead>\n",
       "    <tr style=\"text-align: right;\">\n",
       "      <th></th>\n",
       "      <th>$P_{LD}$</th>\n",
       "      <th>$P_H$</th>\n",
       "      <th>$P_T$</th>\n",
       "    </tr>\n",
       "  </thead>\n",
       "  <tbody>\n",
       "    <tr>\n",
       "      <th>0~8h</th>\n",
       "      <td>350</td>\n",
       "      <td>104.204835201205</td>\n",
       "      <td>245.795164798795</td>\n",
       "    </tr>\n",
       "    <tr>\n",
       "      <th>8~18</th>\n",
       "      <td>700</td>\n",
       "      <td>213.459566212382</td>\n",
       "      <td>486.540433787618</td>\n",
       "    </tr>\n",
       "    <tr>\n",
       "      <th>18~24</th>\n",
       "      <td>500</td>\n",
       "      <td>151.028291348853</td>\n",
       "      <td>348.971708651147</td>\n",
       "    </tr>\n",
       "  </tbody>\n",
       "</table>\n",
       "</div>"
      ],
      "text/plain": [
       "       $P_{LD}$             $P_H$             $P_T$\n",
       "0~8h        350  104.204835201205  245.795164798795\n",
       "8~18        700  213.459566212382  486.540433787618\n",
       "18~24       500  151.028291348853  348.971708651147"
      ]
     },
     "execution_count": 7,
     "metadata": {},
     "output_type": "execute_result"
    }
   ],
   "source": [
    "import pandas as pd\n",
    "g = sum(_gamma) / 2\n",
    "index = ['0~8h','8~18','18~24']\n",
    "pd.DataFrame({'$P_{LD}$':[350,700,500],\n",
    "              '$P_H$':[load_dist[P_H].subs({P_LD:pld,gamma:g}) for pld in [350,700,500]],\n",
    "              '$P_T$':[load_dist[P_T].subs({P_LD:pld,gamma:g}) for pld in [350,700,500]],},\n",
    "             index = index)"
   ]
  },
  {
   "cell_type": "code",
   "execution_count": 8,
   "metadata": {},
   "outputs": [
    {
     "data": {
      "image/png": "[encoded data removed]",
      "text/latex": [
       "$$14999715.8813392$$"
      ],
      "text/plain": [
       "14999715.8813392"
      ]
     },
     "execution_count": 8,
     "metadata": {},
     "output_type": "execute_result"
    }
   ],
   "source": [
    "W_sum(g)"
   ]
  },
  {
   "cell_type": "markdown",
   "metadata": {},
   "source": [
    "### 运行结果\n",
    "\n",
    "$\\gamma = 0.5141552734375$\n",
    "\n",
    "$W_{\\Sigma} = 14999715.8813392$\n",
    "\n",
    "功率分配：\n",
    "<style scoped=\"\">\n",
    "    .dataframe tbody tr th:only-of-type {\n",
    "        vertical-align: middle;\n",
    "    }\n",
    "\n",
    "    .dataframe tbody tr th {\n",
    "        vertical-align: top;\n",
    "    }\n",
    "\n",
    "    .dataframe thead th {\n",
    "        text-align: right;\n",
    "    }\n",
    "</style>\n",
    "<table class=\"dataframe\" border=\"1\">\n",
    "  <thead>\n",
    "    <tr style=\"text-align: right;\">\n",
    "      <th></th>\n",
    "      <th><span class=\"MathJax_Preview\" style=\"color: inherit;\"></span><span class=\"MathJax\" id=\"MathJax-Element-72-Frame\" tabindex=\"0\" data-mathml=\"<math xmlns=&quot;http://www.w3.org/1998/Math/MathML&quot;><msub><mi>P</mi><mi>H</mi></msub></math>\" style=\"position: relative;\" role=\"presentation\"><nobr aria-hidden=\"true\"><span class=\"math\" id=\"MathJax-Span-1450\" role=\"math\" style=\"width: 1.256em; display: inline-block;\"><span style=\"display: inline-block; position: relative; width: 1.238em; height: 0px;\"><span style=\"position: absolute; clip: rect(1.386em, 1001.24em, 2.626em, -1000em); top: -2.257em; left: 0em;\"><span class=\"mrow\" id=\"MathJax-Span-1451\"><span class=\"msubsup\" id=\"MathJax-Span-1452\"><span style=\"display: inline-block; position: relative; width: 1.23em; height: 0px;\"><span style=\"position: absolute; clip: rect(3.133em, 1000.61em, 4.223em, -1000em); top: -4.005em; left: 0em;\"><span class=\"mi\" id=\"MathJax-Span-1453\" style=\"font-family: STIXMathJax_Main; font-style: italic;\">P</span><span style=\"display: inline-block; width: 0px; height: 4.005em;\"></span></span><span style=\"position: absolute; top: -3.855em; left: 0.611em;\"><span class=\"mi\" id=\"MathJax-Span-1454\" style=\"font-size: 70.7%; font-family: STIXMathJax_Main; font-style: italic;\">H<span style=\"display: inline-block; overflow: hidden; height: 1px; width: 0.033em;\"></span></span><span style=\"display: inline-block; width: 0px; height: 4.005em;\"></span></span></span></span></span><span style=\"display: inline-block; width: 0px; height: 2.257em;\"></span></span></span><span style=\"display: inline-block; overflow: hidden; vertical-align: -0.223em; border-left: 0px solid; width: 0px; height: 0.949em;\"></span></span></nobr><span class=\"MJX_Assistive_MathML\" role=\"presentation\"><math xmlns=\"http://www.w3.org/1998/Math/MathML\"><msub><mi>P</mi><mi>H</mi></msub></math></span></span><script type=\"math/tex\" id=\"MathJax-Element-72\">P_H</script></th>\n",
    "      <th><span class=\"MathJax_Preview\" style=\"color: inherit;\"></span><span class=\"MathJax\" id=\"MathJax-Element-73-Frame\" tabindex=\"0\" data-mathml=\"<math xmlns=&quot;http://www.w3.org/1998/Math/MathML&quot;><msub><mi>P</mi><mi>T</mi></msub></math>\" style=\"position: relative;\" role=\"presentation\"><nobr aria-hidden=\"true\"><span class=\"math\" id=\"MathJax-Span-1455\" role=\"math\" style=\"width: 1.183em; display: inline-block;\"><span style=\"display: inline-block; position: relative; width: 1.165em; height: 0px;\"><span style=\"position: absolute; clip: rect(1.386em, 1001.17em, 2.626em, -1000em); top: -2.257em; left: 0em;\"><span class=\"mrow\" id=\"MathJax-Span-1456\"><span class=\"msubsup\" id=\"MathJax-Span-1457\"><span style=\"display: inline-block; position: relative; width: 1.134em; height: 0px;\"><span style=\"position: absolute; clip: rect(3.133em, 1000.61em, 4.223em, -1000em); top: -4.005em; left: 0em;\"><span class=\"mi\" id=\"MathJax-Span-1458\" style=\"font-family: STIXMathJax_Main; font-style: italic;\">P</span><span style=\"display: inline-block; width: 0px; height: 4.005em;\"></span></span><span style=\"position: absolute; top: -3.855em; left: 0.611em;\"><span class=\"mi\" id=\"MathJax-Span-1459\" style=\"font-size: 70.7%; font-family: STIXMathJax_Main; font-style: italic;\">T<span style=\"display: inline-block; overflow: hidden; height: 1px; width: 0.054em;\"></span></span><span style=\"display: inline-block; width: 0px; height: 4.005em;\"></span></span></span></span></span><span style=\"display: inline-block; width: 0px; height: 2.257em;\"></span></span></span><span style=\"display: inline-block; overflow: hidden; vertical-align: -0.223em; border-left: 0px solid; width: 0px; height: 0.949em;\"></span></span></nobr><span class=\"MJX_Assistive_MathML\" role=\"presentation\"><math xmlns=\"http://www.w3.org/1998/Math/MathML\"><msub><mi>P</mi><mi>T</mi></msub></math></span></span><script type=\"math/tex\" id=\"MathJax-Element-73\">P_T</script></th>\n",
    "      <th><span class=\"MathJax_Preview\" style=\"color: inherit;\"></span><span class=\"MathJax\" id=\"MathJax-Element-74-Frame\" tabindex=\"0\" data-mathml=\"<math xmlns=&quot;http://www.w3.org/1998/Math/MathML&quot;><msub><mi>P</mi><mrow class=&quot;MJX-TeXAtom-ORD&quot;><mi>L</mi><mi>D</mi></mrow></msub></math>\" style=\"position: relative;\" role=\"presentation\"><nobr aria-hidden=\"true\"><span class=\"math\" id=\"MathJax-Span-1460\" role=\"math\" style=\"width: 1.62em; display: inline-block;\"><span style=\"display: inline-block; position: relative; width: 1.602em; height: 0px;\"><span style=\"position: absolute; clip: rect(1.386em, 1001.6em, 2.626em, -1000em); top: -2.257em; left: 0em;\"><span class=\"mrow\" id=\"MathJax-Span-1461\"><span class=\"msubsup\" id=\"MathJax-Span-1462\"><span style=\"display: inline-block; position: relative; width: 1.592em; height: 0px;\"><span style=\"position: absolute; clip: rect(3.133em, 1000.61em, 4.223em, -1000em); top: -4.005em; left: 0em;\"><span class=\"mi\" id=\"MathJax-Span-1463\" style=\"font-family: STIXMathJax_Main; font-style: italic;\">P</span><span style=\"display: inline-block; width: 0px; height: 4.005em;\"></span></span><span style=\"position: absolute; top: -3.855em; left: 0.611em;\"><span class=\"texatom\" id=\"MathJax-Span-1464\"><span class=\"mrow\" id=\"MathJax-Span-1465\"><span class=\"mi\" id=\"MathJax-Span-1466\" style=\"font-size: 70.7%; font-family: STIXMathJax_Main; font-style: italic;\">L<span style=\"display: inline-block; overflow: hidden; height: 1px; width: 0.002em;\"></span></span><span class=\"mi\" id=\"MathJax-Span-1467\" style=\"font-size: 70.7%; font-family: STIXMathJax_Main; font-style: italic;\">D</span></span></span><span style=\"display: inline-block; width: 0px; height: 4.005em;\"></span></span></span></span></span><span style=\"display: inline-block; width: 0px; height: 2.257em;\"></span></span></span><span style=\"display: inline-block; overflow: hidden; vertical-align: -0.223em; border-left: 0px solid; width: 0px; height: 0.949em;\"></span></span></nobr><span class=\"MJX_Assistive_MathML\" role=\"presentation\"><math xmlns=\"http://www.w3.org/1998/Math/MathML\"><msub><mi>P</mi><mrow class=\"MJX-TeXAtom-ORD\"><mi>L</mi><mi>D</mi></mrow></msub></math></span></span><script type=\"math/tex\" id=\"MathJax-Element-74\">P_{LD}</script></th>\n",
    "    </tr>\n",
    "  </thead>\n",
    "  <tbody>\n",
    "    <tr>\n",
    "      <th>0~8h</th>\n",
    "      <td>104.204835201205</td>\n",
    "      <td>245.795164798795</td>\n",
    "      <td>350</td>\n",
    "    </tr>\n",
    "    <tr>\n",
    "      <th>8~18</th>\n",
    "      <td>213.459566212382</td>\n",
    "      <td>486.540433787618</td>\n",
    "      <td>700</td>\n",
    "    </tr>\n",
    "    <tr>\n",
    "      <th>18~24</th>\n",
    "      <td>151.028291348853</td>\n",
    "      <td>348.971708651147</td>\n",
    "      <td>500</td>\n",
    "    </tr>\n",
    "  </tbody>\n",
    "</table>"
   ]
  }
 ],
 "metadata": {
  "hide_input": false,
  "kernelspec": {
   "display_name": "Python 3",
   "language": "python",
   "name": "python3"
  },
  "language_info": {
   "codemirror_mode": {
    "name": "ipython",
    "version": 3
   },
   "file_extension": ".py",
   "mimetype": "text/x-python",
   "name": "python",
   "nbconvert_exporter": "python",
   "pygments_lexer": "ipython3",
   "version": "3.7.1"
  },
  "toc": {
   "base_numbering": 1,
   "nav_menu": {},
   "number_sections": true,
   "sideBar": true,
   "skip_h1_title": false,
   "title_cell": "Contents",
   "title_sidebar": "Navigation",
   "toc_cell": false,
   "toc_position": {},
   "toc_section_display": true,
   "toc_window_display": false
  },
  "varInspector": {
   "cols": {
    "lenName": 16,
    "lenType": 16,
    "lenVar": 40
   },
   "kernels_config": {
    "python": {
     "delete_cmd_postfix": "",
     "delete_cmd_prefix": "del ",
     "library": "var_list.py",
     "varRefreshCmd": "print(var_dic_list())"
    },
    "r": {
     "delete_cmd_postfix": ") ",
     "delete_cmd_prefix": "rm(",
     "library": "var_list.r",
     "varRefreshCmd": "cat(var_dic_list()) "
    }
   },
   "position": {
    "height": "446px",
    "left": "1133px",
    "right": "53px",
    "top": "106px",
    "width": "350px"
   },
   "types_to_exclude": [
    "module",
    "function",
    "builtin_function_or_method",
    "instance",
    "_Feature"
   ],
   "window_display": false
  }
 },
 "nbformat": 4,
 "nbformat_minor": 2
}
